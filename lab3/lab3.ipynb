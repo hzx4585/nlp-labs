{
 "cells": [
  {
   "cell_type": "markdown",
   "metadata": {},
   "source": [
    "<div class=\"alert alert-danger\">\n",
    "**Due date:** 2017-02-10\n",
    "</div>"
   ]
  },
  {
   "cell_type": "markdown",
   "metadata": {},
   "source": [
    "# Lab 3: Part-of-Speech Tagging"
   ]
  },
  {
   "cell_type": "markdown",
   "metadata": {},
   "source": [
    "**Students:** Ludvig Noring (ludno249), Michael Sörsäter (micso554), Victor Tranell (victr593)"
   ]
  },
  {
   "cell_type": "markdown",
   "metadata": {},
   "source": [
    "## Introduction"
   ]
  },
  {
   "cell_type": "markdown",
   "metadata": {},
   "source": [
    "Part-of-speech (POS) tagging is the task of labelling words (tokens) with parts of speech such as noun, adjective, and verb. In this lab you will implement a POS tagger based on the averaged perceptron and evaluate it on the [Stockholm Umeå Corpus (SUC)](http://spraakbanken.gu.se/eng/resources/suc), a Swedish corpus containing more than 74,000 sentences (1.1&nbsp;million tokens), which were manually annotated with, among others, parts of speech. The corpus is divided into two files:\n",
    "\n",
    "<table align=\"left\">\n",
    "<tr><td><code>suc-train.txt</code></td><td style=\"text-align: right\">72,594 sentences</td><td style=\"text-align: right\">1,142,802 tokens</td></tr>\n",
    "<tr><td><code>suc-test.txt</code></td><td style=\"text-align: right\">1,569 sentences</td><td style=\"text-align: right\">23,319 tokens</td></tr>\n",
    "</table>"
   ]
  },
  {
   "cell_type": "markdown",
   "metadata": {},
   "source": [
    "Start by importing the Python module that is required for this lab:"
   ]
  },
  {
   "cell_type": "code",
   "execution_count": 4,
   "metadata": {
    "collapsed": false
   },
   "outputs": [],
   "source": [
    "import nlp3"
   ]
  },
  {
   "cell_type": "markdown",
   "metadata": {},
   "source": [
    "The next cell loads the data:"
   ]
  },
  {
   "cell_type": "code",
   "execution_count": 14,
   "metadata": {
    "collapsed": false
   },
   "outputs": [],
   "source": [
    "training_data = nlp3.read_data(\"/home/TDDE09/labs/nlp3/suc-train.txt\")\n",
    "test_data = nlp3.read_data(\"/home/TDDE09/labs/nlp3/suc-test.txt\")"
   ]
  },
  {
   "cell_type": "markdown",
   "metadata": {},
   "source": [
    "Both data sets consist of tagged sentences. In Python, a tagged sentence is represented as a list of string pairs, where the first component of each pair represents a word and the second component represents a part-of-speech tag. Run the following code cell to see an example:"
   ]
  },
  {
   "cell_type": "code",
   "execution_count": 6,
   "metadata": {
    "collapsed": false
   },
   "outputs": [
    {
     "data": {
      "text/plain": [
       "[('Och', 'KN'),\n",
       " ('det', 'PN'),\n",
       " ('är', 'VB'),\n",
       " ('som', 'KN'),\n",
       " ('segerherre', 'NN'),\n",
       " ('han', 'PN'),\n",
       " ('vill', 'VB'),\n",
       " ('göra', 'VB'),\n",
       " ('politik', 'NN'),\n",
       " ('.', 'MAD')]"
      ]
     },
     "execution_count": 6,
     "metadata": {},
     "output_type": "execute_result"
    }
   ],
   "source": [
    "training_data[42]"
   ]
  },
  {
   "cell_type": "markdown",
   "metadata": {},
   "source": [
    "The next cell extracts all unique tags from the training data. The tags are explained and exemplified in Table&nbsp;12 (page&nbsp;20) of the [SUC 2.0 Manual](https://spraakbanken.gu.se/parole/Docs/SUC2.0-manual.pdf)."
   ]
  },
  {
   "cell_type": "code",
   "execution_count": 10,
   "metadata": {
    "collapsed": false
   },
   "outputs": [
    {
     "name": "stdout",
     "output_type": "stream",
     "text": [
      "AB DT HA HD HP HS IE IN JJ KN MAD MID NN PAD PC PL PM PN PP PS RG RO SN UO VB\n"
     ]
    }
   ],
   "source": [
    "suc_tags = set()\n",
    "for tagged_sentence in training_data:\n",
    "    for word, tag in tagged_sentence:\n",
    "        suc_tags.add(tag)\n",
    "suc_tags = sorted(suc_tags)\n",
    "print(\" \".join(suc_tags))"
   ]
  },
  {
   "cell_type": "markdown",
   "metadata": {},
   "source": [
    "Run the next code cell to train the default tagger, tag the sample sentence from above, and evaluate the tagger on the test data. Note that for reasons of speed, this only uses the first 1,000 sentences of the training data; for higher accuracies you should train on the complete training data."
   ]
  },
  {
   "cell_type": "code",
   "execution_count": 15,
   "metadata": {
    "collapsed": false
   },
   "outputs": [
    {
     "name": "stdout",
     "output_type": "stream",
     "text": [
      "Progress: 99.90%\n",
      "[('Och', 'KN'), ('det', 'PN'), ('är', 'VB'), ('som', 'HP'), ('segerherre', 'JJ'), ('han', 'PN'), ('vill', 'VB'), ('göra', 'VB'), ('politik', 'NN'), ('.', 'MAD')]\n",
      "Accuracy: 84.22%\n"
     ]
    }
   ],
   "source": [
    "tagger = nlp3.PerceptronTagger(suc_tags)\n",
    "tagger.train(training_data[:1000])\n",
    "print(tagger.tag([word for word, tag in training_data[42]]))\n",
    "matrix = nlp3.confusion_matrix(tagger, test_data)\n",
    "print(\"Accuracy: {:.2%}\".format(nlp3.accuracy(matrix)))"
   ]
  },
  {
   "cell_type": "markdown",
   "metadata": {},
   "source": [
    "## Implement the tagger"
   ]
  },
  {
   "cell_type": "markdown",
   "metadata": {},
   "source": [
    "Your main task in this lab is to re-implement the two central methods of the default tagger:\n",
    "\n",
    "* `train()`, which takes a list of tagged sentences and trains the tagger using the averaged perceptron learning algorithm\n",
    "\n",
    "* `tag()`, which takes a list of words (strings) and returns a tagged sentence\n",
    "\n",
    "You are of course free to add other methods to your class if you deem it appropriate to do so.\n",
    "\n",
    "In implementing the tagger you will be able to reuse code from your implementation of the averaged perceptron classifier in lab&nbsp;1. However, for this lab it is crucial that you can handle multiple classes, as the tagger needs one class per POS tag."
   ]
  },
  {
   "cell_type": "markdown",
   "metadata": {},
   "source": [
    "<div class=\"panel panel-primary\">\n",
    "<div class=\"panel-heading\">Problem 1</div>\n",
    "<div class=\"panel-body\">\n",
    "Implement a part-of-speech tagger based on the averaged perceptron, train it on the training data, and evaluate performance on the test data. Your tagger should get the same results as the default tagger.\n",
    "</div>\n",
    "</div>\n",
    "\n",
    "Starter code for this problem is given in the following code cell. The provided class simply inherits from `nlp3.PerceptronTagger` and calls the methods in the superclass. Your task is to replace these calls with your own code. You will note that there is a third method `get_features()`; you do not need to touch this method unless you want to do the advanced part of this lab (see below)."
   ]
  },
  {
   "cell_type": "code",
   "execution_count": 106,
   "metadata": {
    "collapsed": false
   },
   "outputs": [],
   "source": [
    "class OurTagger(nlp3.PerceptronTagger):\n",
    "\n",
    "    def __init__(self, tags):\n",
    "        \"\"\"Creates a new tagger that uses the specified tag set.\"\"\"\n",
    "        super().__init__(tags)\n",
    "        self.tags = tags\n",
    "        self.class_weights = {}\n",
    "        self.words = []\n",
    "\n",
    "    def tag(self, words):\n",
    "        \"\"\"Tags the specified words, returning a tagged sentence.\"\"\"\n",
    "        # TODO: Replace the following line with your own code\n",
    "        \n",
    "        #return super().tag(words)\n",
    "        predicted_tags = []\n",
    "        for word in words:\n",
    "            tmp_score = 0\n",
    "            best_score = 0\n",
    "            predicted_tag = 'nope'\n",
    "            if word in self.words:\n",
    "                for tag in self.class_weights:\n",
    "\n",
    "                    tmp_score = self.class_weights[tag][self.words.index(word)]\n",
    "\n",
    "                    if tmp_score >= best_score:\n",
    "                        best_score = tmp_score\n",
    "                        predicted_tag = tag\n",
    "                predicted_tags.append(predicted_tag)\n",
    "            else:\n",
    "                predicted_tags.append('VB')\n",
    "        return list(zip(words, predicted_tags))\n",
    "            \n",
    "                \n",
    "            \n",
    "        \n",
    "        #\n",
    "\n",
    "    def train(self, tagged_sentences, report_progress=True):\n",
    "        \"\"\"Trains this tagger on the specified gold-standard data.\"\"\"\n",
    "        #super().train(tagged_sentences, report_progress)\n",
    "        #return\n",
    "        words = set()\n",
    "        for sentence in tagged_sentences:\n",
    "            for word, tag in sentence:\n",
    "                words.add(word)\n",
    "            \n",
    "        words = list(words)\n",
    "        words.sort()\n",
    "        self.words = words\n",
    "        \n",
    "        # weight vectors for the different classes\n",
    "        #class_weights = {}\n",
    "        for tag in self.tags:\n",
    "            self.class_weights[tag] = [0]*len(words)\n",
    "\n",
    "        # loop over training data\n",
    "        for sentence in tagged_sentences:\n",
    "            for word, tag in sentence:\n",
    "            \n",
    "                predicted_class = 'nope'\n",
    "                best_score = 0\n",
    "\n",
    "                for weight in self.class_weights:\n",
    "                    tmp_score = self.class_weights[weight][self.words.index(word)]\n",
    "\n",
    "                    if(tmp_score >= best_score):\n",
    "                        predicted_class = weight\n",
    "                        best_score = tmp_score\n",
    "                if tag != predicted_class:\n",
    "                    self.class_weights[predicted_class][self.words.index(word)] -= 1\n",
    "                    self.class_weights[tag][self.words.index(word)] += 1\n",
    "\n",
    "                #predicted_class2 = sorted(scores, key=scores.get, reverse=True)[0]\n",
    "                #if(predicted_class != predicted_class2):\n",
    "                 #   print(predicted_class, predicted_class2)\n",
    "                  #  print(\"OH NO\")\n",
    "                   # 1/0\n",
    "                #else:\n",
    "                 #   print(\"trr\", end=\"\")\n",
    "        #print(self.class_weights)\n",
    "                \n",
    "            \n",
    "            \n",
    "            \n",
    "            \n",
    "            \n",
    "        #\n",
    "\n",
    "    def get_features(self, tokens, i, pred_tags):\n",
    "        \"\"\"Extracts the feature list for the specified configuration.\"\"\"\n",
    "        # TODO: For the advanced part, replace the following line with your own code\n",
    "        return super().get_features(tokens, i, pred_tags)"
   ]
  },
  {
   "cell_type": "markdown",
   "metadata": {},
   "source": [
    "Run the following cell to test your tagger. At the end of the lab you should get the same results as in the evaluation of the default tagger (assuming that you do not change the feature extraction, see below)."
   ]
  },
  {
   "cell_type": "code",
   "execution_count": 108,
   "metadata": {
    "collapsed": false
   },
   "outputs": [
    {
     "name": "stdout",
     "output_type": "stream",
     "text": [
      "Accuracy: 57.58%\n"
     ]
    }
   ],
   "source": [
    "our_tagger = OurTagger(suc_tags)\n",
    "our_tagger.train(training_data[:120])\n",
    "#print(dir(our_tagger))\n",
    "#d = training_data[42]\n",
    "#print(our_tagger.tag([word for word, tag in d]))\n",
    "#print(d)\n",
    "our_matrix = nlp3.confusion_matrix(our_tagger, test_data)\n",
    "print(\"Accuracy: {:.2%}\".format(nlp3.accuracy(our_matrix)))"
   ]
  },
  {
   "cell_type": "markdown",
   "metadata": {},
   "source": [
    "In what follows, we try to give you an idea of what the two methods `train()` and `tag()` do. We start with the latter.\n",
    "\n",
    "### Tagging\n",
    "\n",
    "The default tagger implements the sequence model presented in the lecture. In this model, sentences are tagged from left to right. A **configuration** consists of the list of words, the index of the current word, and the list of already predicted tags. For each word in the sentence, the tagger calls the method `get_features()` to obtain a feature vector for the current configuration. To illustrate how this works, we define a variant of the default tagger that only extracts a single feature, the current word."
   ]
  },
  {
   "cell_type": "code",
   "execution_count": null,
   "metadata": {
    "collapsed": true
   },
   "outputs": [],
   "source": [
    "class DemoTagger(nlp3.PerceptronTagger):\n",
    "    \n",
    "    def get_features(self, words, i, pred_tags):\n",
    "        if self.debug:\n",
    "            print(\"words: {}\".format(\" \".join(words)))\n",
    "            print(\"i: {} (current word: {})\".format(i, words[i]))\n",
    "            print(\"pred_tags: {}\".format(\" \".join(pred_tags)))\n",
    "            print()\n",
    "        return [words[i]]"
   ]
  },
  {
   "cell_type": "markdown",
   "metadata": {},
   "source": [
    "We train this tagger and evaluate it:"
   ]
  },
  {
   "cell_type": "code",
   "execution_count": null,
   "metadata": {
    "collapsed": false
   },
   "outputs": [],
   "source": [
    "demo_tagger = DemoTagger(suc_tags)\n",
    "demo_tagger.debug = False\n",
    "demo_tagger.train(training_data[:1000])\n",
    "demo_matrix = nlp3.confusion_matrix(demo_tagger, test_data)\n",
    "print(\"Accuracy: {:.2%}\".format(nlp3.accuracy(demo_matrix)))\n",
    "demo_tagger.debug = True"
   ]
  },
  {
   "cell_type": "markdown",
   "metadata": {},
   "source": [
    "Here are the features that are extracted when the system tags the sentence *Anna älskar Kurt*:"
   ]
  },
  {
   "cell_type": "code",
   "execution_count": null,
   "metadata": {
    "collapsed": false
   },
   "outputs": [],
   "source": [
    "demo_tagger.tag(\"Anna älskar Kurt\".split())"
   ]
  },
  {
   "cell_type": "markdown",
   "metadata": {},
   "source": [
    "Note that a feature vector is represented as a list of features. With this vector, the tagger then predicts the next tag using the classification rule for the perceptron, and updates the configuration before moving on to the next word. Finally, `tag()` returns the tagged sentence.\n",
    "\n",
    "### Training\n",
    "\n",
    "Training is based on the learning algorithm for the averaged perceptron. Note that the weight vectors need to be updated for each word, not for each sentence. The tagger maintains a list of already predicted tags as part of its configuration. The tagger trains for a single epoch."
   ]
  },
  {
   "cell_type": "markdown",
   "metadata": {},
   "source": [
    "## Advanced: Feature engineering"
   ]
  },
  {
   "cell_type": "markdown",
   "metadata": {},
   "source": [
    "In the advanced part of this lab, you will practice your skills in **feature engineering**, the task of identifying useful features for a machine learning system."
   ]
  },
  {
   "cell_type": "markdown",
   "metadata": {},
   "source": [
    "<div class=\"panel panel-primary\">\n",
    "<div class=\"panel-heading\">Problem 2</div>\n",
    "<div class=\"panel-body\">\n",
    "Think about which features could be useful for tagging and re-implement the method `get_features()` in the class `OurTagger` accordingly. Experiment not only with atomic features but also with different feature combinations (pairs or tuples of features). The goal is to create a system whose accuracy on the test data is as high as possible. Provide a short description of how you came up with your features.\n",
    "</div>\n",
    "</div>"
   ]
  },
  {
   "cell_type": "markdown",
   "metadata": {},
   "source": [
    "*TODO: Insert your description of how you came up with your features here*"
   ]
  }
 ],
 "metadata": {
  "kernelspec": {
   "display_name": "Python 3",
   "language": "python",
   "name": "python3"
  },
  "language_info": {
   "codemirror_mode": {
    "name": "ipython",
    "version": 3
   },
   "file_extension": ".py",
   "mimetype": "text/x-python",
   "name": "python",
   "nbconvert_exporter": "python",
   "pygments_lexer": "ipython3",
   "version": "3.4.3"
  }
 },
 "nbformat": 4,
 "nbformat_minor": 1
}
